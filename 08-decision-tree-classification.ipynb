{
 "cells": [
  {
   "cell_type": "markdown",
   "metadata": {},
   "source": [
    "# Decision Tree Classification\n",
    "\n",
    "Let's build and evaluate the best decision tree classifier on the Wisconsin Breast Cancer data set."
   ]
  },
  {
   "cell_type": "code",
   "execution_count": 1,
   "metadata": {},
   "outputs": [
    {
     "name": "stdout",
     "output_type": "stream",
     "text": [
      "Accuracy: 98%\n",
      "Best parameters: {'criterion': 'entropy', 'max_depth': 4}\n",
      "Best tree:\n",
      "if perimeter3 =< 105.94999694824219: \n",
      "  |then if concave_points3 =< 0.1350499987602234: \n",
      "  |  |then if area2 =< 48.974998474121094: \n",
      "  |  |  |then if texture3 =< 30.145000457763672: \n",
      "  |  |  |  |then B\n",
      "  |  |  |  |else B\n",
      "  |  |  |else if fractal_dimension2 =< 0.004316499922424555: \n",
      "  |  |  |  |then M\n",
      "  |  |  |  |else B\n",
      "  |  |else if texture3 =< 27.575000762939453: \n",
      "  |  |  |then if symmetry3 =< 0.35785001516342163: \n",
      "  |  |  |  |then B\n",
      "  |  |  |  |else M\n",
      "  |  |  |else M\n",
      "  |else if perimeter3 =< 117.44999694824219: \n",
      "  |  |then if smoothness3 =< 0.13609999418258667: \n",
      "  |  |  |then if texture3 =< 25.670000076293945: \n",
      "  |  |  |  |then B\n",
      "  |  |  |  |else M\n",
      "  |  |  |else if texture1 =< 13.420000076293945: \n",
      "  |  |  |  |then B\n",
      "  |  |  |  |else M\n",
      "  |  |else if concave_points3 =< 0.08586500585079193: \n",
      "  |  |  |then if area3 =< 1214.0: \n",
      "  |  |  |  |then B\n",
      "  |  |  |  |else M\n",
      "  |  |  |else M\n",
      "<---------->\n",
      "Tree Depth:  4\n"
     ]
    }
   ],
   "source": [
    "import pandas as pd\n",
    "from sklearn import tree\n",
    "from treeviz import tree_print\n",
    "from sklearn.metrics import accuracy_score\n",
    "from sklearn.model_selection import GridSearchCV\n",
    "from sklearn.metrics import confusion_matrix\n",
    "\n",
    "# get data \n",
    "df = pd.read_csv(\"assets/wdbc.csv\")\n",
    "\n",
    "# create our sklearn data\n",
    "X  = df.drop(['ID','Diagnosis'],axis=1)\n",
    "y = df['Diagnosis']\n",
    "\n",
    "# setting up grid search\n",
    "model = tree.DecisionTreeClassifier()\n",
    "param_grid = {'max_depth': list(range(1,6)),\n",
    "              'criterion': ['entropy', 'gini']\n",
    "              }\n",
    "grid = GridSearchCV(model, param_grid, cv=5)\n",
    "\n",
    "# performing grid search \n",
    "grid.fit(X,y)\n",
    "\n",
    "# print out what we found\n",
    "print(\"Accuracy: {:.0f}%\".format(grid.best_estimator_.score(X,y)*100))\n",
    "print(\"Best parameters: {}\".format(grid.best_params_))\n",
    "print(\"Best tree:\")\n",
    "tree_print(grid.best_estimator_,X)"
   ]
  },
  {
   "cell_type": "code",
   "execution_count": 2,
   "metadata": {},
   "outputs": [
    {
     "name": "stdout",
     "output_type": "stream",
     "text": [
      "Confusion Matrix:\n",
      "     M    B\n",
      "M  210    2\n",
      "B    7  350\n"
     ]
    }
   ],
   "source": [
    "# build the confusion matrix \n",
    "predict_y = grid.best_estimator_.predict(X)\n",
    "actual_y = y\n",
    "\n",
    "labels = ['M','B']\n",
    "cm = confusion_matrix(actual_y, predict_y, labels=labels)\n",
    "cm_df = pd.DataFrame(cm, index=labels, columns=labels)\n",
    "print(\"Confusion Matrix:\\n{}\".format(cm_df))"
   ]
  },
  {
   "cell_type": "code",
   "execution_count": 3,
   "metadata": {},
   "outputs": [
    {
     "name": "stdout",
     "output_type": "stream",
     "text": [
      "Confidence interval: (91%, 99%)\n"
     ]
    }
   ],
   "source": [
    "# confidence interval\n",
    "from bootstrap import bootstrap\n",
    "lb, ub = bootstrap(grid.best_estimator_, df.drop(['ID'],axis=1), 'Diagnosis')\n",
    "print(\"Confidence interval: ({0:.0f}%, {1:.0f}%)\".format(lb*100,ub*100))"
   ]
  },
  {
   "cell_type": "markdown",
   "metadata": {},
   "source": [
    "### Restricting the model complexity to a depth of 2."
   ]
  },
  {
   "cell_type": "code",
   "execution_count": 4,
   "metadata": {},
   "outputs": [
    {
     "name": "stdout",
     "output_type": "stream",
     "text": [
      "Accuracy: 94%\n",
      "if radius3 =< 16.795000076293945: \n",
      "  |then if concave_points3 =< 0.13580000400543213: \n",
      "  |  |then B\n",
      "  |  |else M\n",
      "  |else if texture1 =< 16.110000610351562: \n",
      "  |  |then B\n",
      "  |  |else M\n",
      "<---->\n",
      "Tree Depth:  2\n"
     ]
    }
   ],
   "source": [
    "model = tree.DecisionTreeClassifier(max_depth=2)\n",
    "model.fit(X, y)\n",
    "print(\"Accuracy: {:.0f}%\".format(model.score(X,y)*100))\n",
    "tree_print(model, X)"
   ]
  },
  {
   "cell_type": "code",
   "execution_count": 5,
   "metadata": {},
   "outputs": [
    {
     "name": "stdout",
     "output_type": "stream",
     "text": [
      "Confusion Matrix:\n",
      "     M    B\n",
      "M  199   13\n",
      "B   20  337\n"
     ]
    }
   ],
   "source": [
    "# build the confusion matrix \n",
    "predict_y = model.predict(X)\n",
    "actual_y = y\n",
    "\n",
    "labels = ['M','B']\n",
    "cm = confusion_matrix(actual_y, predict_y, labels=labels)\n",
    "cm_df = pd.DataFrame(cm, index=labels, columns=labels)\n",
    "print(\"Confusion Matrix:\\n{}\".format(cm_df))"
   ]
  },
  {
   "cell_type": "code",
   "execution_count": 6,
   "metadata": {},
   "outputs": [
    {
     "name": "stdout",
     "output_type": "stream",
     "text": [
      "Confidence interval: (89%, 98%)\n"
     ]
    }
   ],
   "source": [
    "# confidence interval\n",
    "from bootstrap import bootstrap\n",
    "lb, ub = bootstrap(model, df.drop(['ID'],axis=1), 'Diagnosis')\n",
    "print(\"Confidence interval: ({0:.0f}%, {1:.0f}%)\".format(lb*100,ub*100))"
   ]
  },
  {
   "cell_type": "code",
   "execution_count": null,
   "metadata": {
    "collapsed": true
   },
   "outputs": [],
   "source": []
  }
 ],
 "metadata": {
  "kernelspec": {
   "display_name": "Python 3",
   "language": "python",
   "name": "python3"
  },
  "language_info": {
   "codemirror_mode": {
    "name": "ipython",
    "version": 3
   },
   "file_extension": ".py",
   "mimetype": "text/x-python",
   "name": "python",
   "nbconvert_exporter": "python",
   "pygments_lexer": "ipython3",
   "version": "3.6.1"
  }
 },
 "nbformat": 4,
 "nbformat_minor": 2
}
